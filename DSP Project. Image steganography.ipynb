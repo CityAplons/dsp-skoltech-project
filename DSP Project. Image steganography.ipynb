{
 "cells": [
  {
   "cell_type": "markdown",
   "metadata": {},
   "source": [
    "### LSB steganography method"
   ]
  },
  {
   "cell_type": "code",
   "execution_count": 4,
   "metadata": {},
   "outputs": [],
   "source": [
    "### LSB Encryption method\n",
    "\n",
    "import numpy as np \n",
    "import random \n",
    "  \n",
    "# Encryption function \n",
    "def encrypt(cover, secret, output): \n",
    "      \n",
    "    # img1 and img2 are the \n",
    "    # two input images \n",
    "    img1 = cv2.imread(cover) \n",
    "    img2 = cv2.imread(secret) \n",
    "      \n",
    "    for i in range(img2.shape[0]): \n",
    "        for j in range(img2.shape[1]): \n",
    "            for l in range(3): \n",
    "                  \n",
    "                # v1 and v2 are 8-bit pixel values \n",
    "                # of img1 and img2 respectively \n",
    "                v1 = format(img1[i][j][l], '08b') \n",
    "                v2 = format(img2[i][j][l], '08b') \n",
    "                  \n",
    "                # Taking 4 MSBs of each image \n",
    "                v3 = v1[:4] + v2[:4]  \n",
    "                  \n",
    "                img1[i][j][l]= int(v3, 2) \n",
    "                  \n",
    "    cv2.imwrite(output, img1) \n",
    "  \n",
    "      \n",
    "# Decryption function \n",
    "def decrypt(inp, out1, out2): \n",
    "      \n",
    "    # Encrypted image \n",
    "    img = cv2.imread(inp)  \n",
    "    width = img.shape[0] \n",
    "    height = img.shape[1] \n",
    "      \n",
    "    # img1 and img2 are two blank images \n",
    "    img1 = np.zeros((width, height, 3), np.uint8) \n",
    "    img2 = np.zeros((width, height, 3), np.uint8) \n",
    "      \n",
    "    for i in range(width): \n",
    "        for j in range(height): \n",
    "            for l in range(3): \n",
    "                v1 = format(img[i][j][l], '08b') \n",
    "                v2 = v1[:4] + chr(random.randint(0, 1)+48) * 4\n",
    "                v3 = v1[4:] + chr(random.randint(0, 1)+48) * 4\n",
    "                  \n",
    "                # Appending data to img1 and img2 \n",
    "                img1[i][j][l]= int(v2, 2) \n",
    "                img2[i][j][l]= int(v3, 2) \n",
    "      \n",
    "    # These are two images produced from \n",
    "    # the encrypted image \n",
    "    cv2.imwrite(out1, img1) \n",
    "    cv2.imwrite(out2, img2) "
   ]
  },
  {
   "cell_type": "code",
   "execution_count": 5,
   "metadata": {},
   "outputs": [],
   "source": [
    "# Test encryption\n",
    "encrypt('test.jpg', 'secret.png', 'out.png') "
   ]
  },
  {
   "cell_type": "code",
   "execution_count": null,
   "metadata": {},
   "outputs": [],
   "source": [
    "# Test decryption\n",
    "decrypt('out.png', 're.png', 'im.png') "
   ]
  },
  {
   "cell_type": "markdown",
   "metadata": {},
   "source": [
    "### Image DSP analysis"
   ]
  },
  {
   "cell_type": "code",
   "execution_count": 1,
   "metadata": {},
   "outputs": [],
   "source": [
    "### DFT analysis\n",
    "# DSP Library for python\n",
    "import scipy.signal\n",
    "import numpy as np \n",
    "import cv2"
   ]
  },
  {
   "cell_type": "code",
   "execution_count": 2,
   "metadata": {},
   "outputs": [
    {
     "data": {
      "text/plain": [
       "(1080, 1920, 3)"
      ]
     },
     "execution_count": 2,
     "metadata": {},
     "output_type": "execute_result"
    }
   ],
   "source": [
    "test = cv2.imread('test.jpg') \n",
    "test.shape"
   ]
  },
  {
   "cell_type": "code",
   "execution_count": 11,
   "metadata": {},
   "outputs": [
    {
     "data": {
      "text/plain": [
       "1080"
      ]
     },
     "execution_count": 11,
     "metadata": {},
     "output_type": "execute_result"
    }
   ],
   "source": []
  },
  {
   "cell_type": "code",
   "execution_count": null,
   "metadata": {},
   "outputs": [],
   "source": []
  }
 ],
 "metadata": {
  "kernelspec": {
   "display_name": "Python 3",
   "language": "python",
   "name": "python3"
  },
  "language_info": {
   "codemirror_mode": {
    "name": "ipython",
    "version": 3
   },
   "file_extension": ".py",
   "mimetype": "text/x-python",
   "name": "python",
   "nbconvert_exporter": "python",
   "pygments_lexer": "ipython3",
   "version": "3.8.3"
  }
 },
 "nbformat": 4,
 "nbformat_minor": 4
}
